{
 "cells": [
  {
   "cell_type": "code",
   "execution_count": 10,
   "metadata": {},
   "outputs": [
    {
     "data": {
      "text/plain": [
       "[Document(page_content='The \\nStory of  \\nthe Trojan  \\nwar \\nLong ago, when the gods still walked the earth, a great feast was held to celebrate \\nthe wedding of Thetis and Peleus. All the gods were invited except Eris, the \\ngoddess of quarrels. The wedding feast  was almost over when Eris stormed in. \\nShe threw a golden apple on the table. On it were written the words: “For the \\nfairest.” Each of the goddesses thought she was the fairest and should have the \\napple. All of them were very beautiful. Nobody could decide  between them. They \\nargued about it for years. At last the gods chose the three loveliest, and they \\ndecided to ask a human to judge between them. They chose Paris, the son of the \\nking of Troy. He was very surprised one evening to see Hermes appear with thr ee \\ngoddesses. They were: Hera, the queen of the gods; Athena, the goddess of \\nwisdom; and Aphrodite, the goddess of love and beauty. “Congratulations, Paris!” \\nsaid Hermes. “You have been chosen to judge which goddess deserves this golden \\napple for being the  most beautiful.”  \\nHermes and the goddesses agreed that Paris could give them his decision in the \\nmorning, so Paris went to bed. He was just falling asleep when Hera \\nappeared.“Paris,” she said, “ if you give me the golden apple in the morning I shall \\nmake y ou the most powerful man on earth.” Paris thought that might be rather \\nnice. “Certainly, your majesty,” he said. “I shall give you the prize tomorrow.” \\nHera vanished in a blaze of peacock feathers. Paris scarcely had time to collect his \\nthoughts when Athen a appeared. “Paris,” she said, “if you give me the golden \\napple in the morning I will make you the wisest man on earth.” Paris thought that \\nmight be even better. “Then I shall give you the golden apple tomorrow, my lady,” \\nhe said. Athena vanished with a fl ash of her grey eyes. Paris could hardly believe \\nhis good fortune. Then Aphrodite appeared. “Paris,” she said, “if you give me the ', metadata={'source': 'trojanwar.pdf', 'page': 0}),\n",
       " Document(page_content='golden apple in the morning I will give you the most beautiful woman in the world \\nto be your wife.”  \\nNext morning, when Hermes  brought the three goddesses back  for Paris’s \\ndecision, he marched straight up to Aphrodite and  gave her the golden apple.  The \\nmost beautiful woman in the world was called Helen, and  she was married to the \\nking of the Greeks. Paris visited the  Greek palace . At night, with Aphrodite’s help, \\nhe stole Helen  away and took her back to Troy. The Greeks sailed over to  Troy to \\ntry to get her back. But Troy was a strong city with  thick walls and brave fighters. \\nBravest of all was Paris’s brother  Hector, who was kind  and honourable.  The \\nGreeks’ best fighter, Achilles, was the son of Thetis and  Peleus. He was fit and well \\ntrained. He had a suit of golden  armour and some swords made by Hephaestus, \\nthe smith of the  gods. And he was no ordinary warrior. When he was a baby  his \\nmother took him down to the River Styx, the river of the dead.  She dipped him in \\nthe water, which made him invulnerable. His  skin could not be broken. The only \\nplace he could be injured was  his heel, because his mother was holding onto his \\nheel so tig htly that the water couldn’t get to it.  \\nUnfortunately Achilles didn’t fight much. He sat in his tent  sulking because \\nsomebody else had taken his slave girl. The  other Greeks were very miserable. \\nThe war had been going on  for ten years and they wanted to go  home. The one \\nman who  could bring them victory wouldn’t even come out of his tent. At  last \\nAchilles’s best friend Patroclus decided to borrow Achilles’s  famous golden \\narmour. “Once I’ve got the helmet on nobody will  know it’s me,” he thought. \\n“They’ll thi nk it’s Achilles, and we’ll  beat those Trojans once and for all.”  In the \\nmorning as the sun rose a golden figure stepped out of  Achilles’s tent. Cheering, \\nthe Greeks followed him to the gates  of Troy, where Hector was waiting for them. \\nThere was a  terrible  fight. At last Hector slipped his sword inside the golden  \\nbreastplate and thrust it home. The golden figure fell to the  ground dead. Hector \\ntook the helmet off. It wasn’t Achilles but  poor Patroclus.  Hector stripped off the \\ngolden armour and took it back to his  palace. Next morning he was putting it on \\nwhen his wife  Andromache came in. “Hector,” she said, “don’t go out to fight  \\ntoday, you’ll be killed.”  \\n ', metadata={'source': 'trojanwar.pdf', 'page': 1}),\n",
       " Document(page_content='“Don’t worry, Andromache,” said Hector. “I have this fantastic  new armour.”  \\n“If you go out fighting today Achilles will kill you,” said  Andromache.  At that \\nmoment the nurse came in with their baby, Astyanax.  She held him up to Hector \\nto be kissed goodbye, but the baby  was frightened. Hector’s new helmet had a \\nred plume that  swished whenever he moved his head. So Hector took the  helmet \\noff and kissed the baby goodbye.  “Think of Astyanax,” said Andromache. “Do you \\nwant him to  grow up fatherless?”  “Stop fussing,” said Hector. “I’ll be fine.” \\nAndromache wept and  held on to his arm but he took no notice, and h e went off \\nto fight  the Greeks.  When Achilles woke up and found that not only was his \\nfamous  armour missing but his best friend was dead he was furious. He  seized a \\nsword and rushed out of the tent. Outside the gates of  Troy stood a figure in \\ngolden armour . Achilles hacked his way  through the ranks of Trojans until he \\nreached Hector. They  fought all day. At last Achilles slashed Hector across the  \\nthroat. Hector fell to the ground dying. With his last breath he  begged Achilles to \\nreturn his body to his famil y so that they  could have a proper funeral and release \\nhis soul. But Achilles  tied Hector’s body to the back of his chariot and drove round  \\nthe walls of Troy three times a day. Not only was Hector dead,  but his family \\ncouldn’t lay his soul to rest. At last  the king of  Troy, Hector’s father, could bear it \\nno longer. He slipped out of  Troy ar night and crept up the hill to Achilles’s tent. \\nHe talked  about Achilles’s own father and how he would feel if Achilles  had been \\nkilled.  “I will ransom Hector’s body to you for its weight in gold,” said  Achilles.  \\nNext morning a big set of scales was put up outside the gates of  Troy. The Greeks \\nput Hector’s body in one of the pans. The  king’s servants came out with the \\nmoney from the treasury and  put it into the other pan.  It wasn’t enough. They \\nbrought out the  crown jewels. Iit wasn’t enough. The ordinary people of Troy  \\nbrought out their bits of gold. It wasn’t enough. All the gold in  Troy was weighed \\nagainst Hector’s body. It wasn’t enough.  Hector’s sister Polyxena was wa tching \\nfrom the walls. She was  wearing thin gold bangles, and she leaned forward, \\nslipped them  off and dropped them into the pan of gold. It was just enough to  tip \\nthe balance. Slowly the pan with Hector’s body in it rose off  the ground. So \\nHector’s family  could have his body back; but it  cost all the gold in Troy.  After ten \\nyears of fighting the Greeks won, but only by tricking  their way into Troy in a \\nwooden horse  ', metadata={'source': 'trojanwar.pdf', 'page': 2})]"
      ]
     },
     "execution_count": 10,
     "metadata": {},
     "output_type": "execute_result"
    }
   ],
   "source": [
    "## Pdf reader\n",
    "from langchain_community.document_loaders import PyPDFLoader\n",
    "loader=PyPDFLoader('trojanwar.pdf')\n",
    "docs=loader.load()\n",
    "docs"
   ]
  },
  {
   "cell_type": "code",
   "execution_count": 11,
   "metadata": {},
   "outputs": [
    {
     "data": {
      "text/plain": [
       "[Document(page_content='The \\nStory of  \\nthe Trojan  \\nwar \\nLong ago, when the gods still walked the earth, a great feast was held to celebrate \\nthe wedding of Thetis and Peleus. All the gods were invited except Eris, the \\ngoddess of quarrels. The wedding feast  was almost over when Eris stormed in. \\nShe threw a golden apple on the table. On it were written the words: “For the \\nfairest.” Each of the goddesses thought she was the fairest and should have the \\napple. All of them were very beautiful. Nobody could decide  between them. They \\nargued about it for years. At last the gods chose the three loveliest, and they \\ndecided to ask a human to judge between them. They chose Paris, the son of the \\nking of Troy. He was very surprised one evening to see Hermes appear with thr ee \\ngoddesses. They were: Hera, the queen of the gods; Athena, the goddess of \\nwisdom; and Aphrodite, the goddess of love and beauty. “Congratulations, Paris!” \\nsaid Hermes. “You have been chosen to judge which goddess deserves this golden', metadata={'source': 'trojanwar.pdf', 'page': 0}),\n",
       " Document(page_content='wisdom; and Aphrodite, the goddess of love and beauty. “Congratulations, Paris!” \\nsaid Hermes. “You have been chosen to judge which goddess deserves this golden \\napple for being the  most beautiful.”  \\nHermes and the goddesses agreed that Paris could give them his decision in the \\nmorning, so Paris went to bed. He was just falling asleep when Hera \\nappeared.“Paris,” she said, “ if you give me the golden apple in the morning I shall \\nmake y ou the most powerful man on earth.” Paris thought that might be rather \\nnice. “Certainly, your majesty,” he said. “I shall give you the prize tomorrow.” \\nHera vanished in a blaze of peacock feathers. Paris scarcely had time to collect his \\nthoughts when Athen a appeared. “Paris,” she said, “if you give me the golden \\napple in the morning I will make you the wisest man on earth.” Paris thought that \\nmight be even better. “Then I shall give you the golden apple tomorrow, my lady,”', metadata={'source': 'trojanwar.pdf', 'page': 0}),\n",
       " Document(page_content='apple in the morning I will make you the wisest man on earth.” Paris thought that \\nmight be even better. “Then I shall give you the golden apple tomorrow, my lady,” \\nhe said. Athena vanished with a fl ash of her grey eyes. Paris could hardly believe \\nhis good fortune. Then Aphrodite appeared. “Paris,” she said, “if you give me the', metadata={'source': 'trojanwar.pdf', 'page': 0}),\n",
       " Document(page_content='golden apple in the morning I will give you the most beautiful woman in the world \\nto be your wife.”  \\nNext morning, when Hermes  brought the three goddesses back  for Paris’s \\ndecision, he marched straight up to Aphrodite and  gave her the golden apple.  The \\nmost beautiful woman in the world was called Helen, and  she was married to the \\nking of the Greeks. Paris visited the  Greek palace . At night, with Aphrodite’s help, \\nhe stole Helen  away and took her back to Troy. The Greeks sailed over to  Troy to \\ntry to get her back. But Troy was a strong city with  thick walls and brave fighters. \\nBravest of all was Paris’s brother  Hector, who was kind  and honourable.  The \\nGreeks’ best fighter, Achilles, was the son of Thetis and  Peleus. He was fit and well \\ntrained. He had a suit of golden  armour and some swords made by Hephaestus, \\nthe smith of the  gods. And he was no ordinary warrior. When he was a baby  his', metadata={'source': 'trojanwar.pdf', 'page': 1}),\n",
       " Document(page_content='trained. He had a suit of golden  armour and some swords made by Hephaestus, \\nthe smith of the  gods. And he was no ordinary warrior. When he was a baby  his \\nmother took him down to the River Styx, the river of the dead.  She dipped him in \\nthe water, which made him invulnerable. His  skin could not be broken. The only \\nplace he could be injured was  his heel, because his mother was holding onto his \\nheel so tig htly that the water couldn’t get to it.  \\nUnfortunately Achilles didn’t fight much. He sat in his tent  sulking because \\nsomebody else had taken his slave girl. The  other Greeks were very miserable. \\nThe war had been going on  for ten years and they wanted to go  home. The one \\nman who  could bring them victory wouldn’t even come out of his tent. At  last \\nAchilles’s best friend Patroclus decided to borrow Achilles’s  famous golden \\narmour. “Once I’ve got the helmet on nobody will  know it’s me,” he thought.', metadata={'source': 'trojanwar.pdf', 'page': 1}),\n",
       " Document(page_content='Achilles’s best friend Patroclus decided to borrow Achilles’s  famous golden \\narmour. “Once I’ve got the helmet on nobody will  know it’s me,” he thought. \\n“They’ll thi nk it’s Achilles, and we’ll  beat those Trojans once and for all.”  In the \\nmorning as the sun rose a golden figure stepped out of  Achilles’s tent. Cheering, \\nthe Greeks followed him to the gates  of Troy, where Hector was waiting for them. \\nThere was a  terrible  fight. At last Hector slipped his sword inside the golden  \\nbreastplate and thrust it home. The golden figure fell to the  ground dead. Hector \\ntook the helmet off. It wasn’t Achilles but  poor Patroclus.  Hector stripped off the \\ngolden armour and took it back to his  palace. Next morning he was putting it on \\nwhen his wife  Andromache came in. “Hector,” she said, “don’t go out to fight  \\ntoday, you’ll be killed.”', metadata={'source': 'trojanwar.pdf', 'page': 1}),\n",
       " Document(page_content='“Don’t worry, Andromache,” said Hector. “I have this fantastic  new armour.”  \\n“If you go out fighting today Achilles will kill you,” said  Andromache.  At that \\nmoment the nurse came in with their baby, Astyanax.  She held him up to Hector \\nto be kissed goodbye, but the baby  was frightened. Hector’s new helmet had a \\nred plume that  swished whenever he moved his head. So Hector took the  helmet \\noff and kissed the baby goodbye.  “Think of Astyanax,” said Andromache. “Do you \\nwant him to  grow up fatherless?”  “Stop fussing,” said Hector. “I’ll be fine.” \\nAndromache wept and  held on to his arm but he took no notice, and h e went off \\nto fight  the Greeks.  When Achilles woke up and found that not only was his \\nfamous  armour missing but his best friend was dead he was furious. He  seized a \\nsword and rushed out of the tent. Outside the gates of  Troy stood a figure in \\ngolden armour . Achilles hacked his way  through the ranks of Trojans until he', metadata={'source': 'trojanwar.pdf', 'page': 2}),\n",
       " Document(page_content='sword and rushed out of the tent. Outside the gates of  Troy stood a figure in \\ngolden armour . Achilles hacked his way  through the ranks of Trojans until he \\nreached Hector. They  fought all day. At last Achilles slashed Hector across the  \\nthroat. Hector fell to the ground dying. With his last breath he  begged Achilles to \\nreturn his body to his famil y so that they  could have a proper funeral and release \\nhis soul. But Achilles  tied Hector’s body to the back of his chariot and drove round  \\nthe walls of Troy three times a day. Not only was Hector dead,  but his family \\ncouldn’t lay his soul to rest. At last  the king of  Troy, Hector’s father, could bear it \\nno longer. He slipped out of  Troy ar night and crept up the hill to Achilles’s tent. \\nHe talked  about Achilles’s own father and how he would feel if Achilles  had been \\nkilled.  “I will ransom Hector’s body to you for its weight in gold,” said  Achilles.', metadata={'source': 'trojanwar.pdf', 'page': 2}),\n",
       " Document(page_content='He talked  about Achilles’s own father and how he would feel if Achilles  had been \\nkilled.  “I will ransom Hector’s body to you for its weight in gold,” said  Achilles.  \\nNext morning a big set of scales was put up outside the gates of  Troy. The Greeks \\nput Hector’s body in one of the pans. The  king’s servants came out with the \\nmoney from the treasury and  put it into the other pan.  It wasn’t enough. They \\nbrought out the  crown jewels. Iit wasn’t enough. The ordinary people of Troy  \\nbrought out their bits of gold. It wasn’t enough. All the gold in  Troy was weighed \\nagainst Hector’s body. It wasn’t enough.  Hector’s sister Polyxena was wa tching \\nfrom the walls. She was  wearing thin gold bangles, and she leaned forward, \\nslipped them  off and dropped them into the pan of gold. It was just enough to  tip \\nthe balance. Slowly the pan with Hector’s body in it rose off  the ground. So \\nHector’s family  could have his body back; but it  cost all the gold in Troy.  After ten', metadata={'source': 'trojanwar.pdf', 'page': 2}),\n",
       " Document(page_content='the balance. Slowly the pan with Hector’s body in it rose off  the ground. So \\nHector’s family  could have his body back; but it  cost all the gold in Troy.  After ten \\nyears of fighting the Greeks won, but only by tricking  their way into Troy in a \\nwooden horse', metadata={'source': 'trojanwar.pdf', 'page': 2})]"
      ]
     },
     "execution_count": 11,
     "metadata": {},
     "output_type": "execute_result"
    }
   ],
   "source": [
    "from langchain.text_splitter import RecursiveCharacterTextSplitter\n",
    "text_splitter=RecursiveCharacterTextSplitter(chunk_size=1000,chunk_overlap=200)\n",
    "chunk_documents=text_splitter.split_documents(docs)\n",
    "chunk_documents"
   ]
  },
  {
   "cell_type": "code",
   "execution_count": 12,
   "metadata": {},
   "outputs": [
    {
     "data": {
      "text/plain": [
       "<langchain_community.vectorstores.faiss.FAISS at 0x2046d0fc070>"
      ]
     },
     "execution_count": 12,
     "metadata": {},
     "output_type": "execute_result"
    }
   ],
   "source": [
    "from langchain_community.embeddings import OllamaEmbeddings\n",
    "from langchain_community.vectorstores import FAISS\n",
    "\n",
    "\n",
    "db = FAISS.from_documents(\n",
    "    chunk_documents,\n",
    "    OllamaEmbeddings(model='nomic-embed-text')\n",
    ")\n",
    "db"
   ]
  },
  {
   "cell_type": "code",
   "execution_count": 15,
   "metadata": {},
   "outputs": [
    {
     "name": "stdout",
     "output_type": "stream",
     "text": [
      "sword and rushed out of the tent. Outside the gates of  Troy stood a figure in \n",
      "golden armour . Achilles hacked his way  through the ranks of Trojans until he \n",
      "reached Hector. They  fought all day. At last Achilles slashed Hector across the  \n",
      "throat. Hector fell to the ground dying. With his last breath he  begged Achilles to \n",
      "return his body to his famil y so that they  could have a proper funeral and release \n",
      "his soul. But Achilles  tied Hector’s body to the back of his chariot and drove round  \n",
      "the walls of Troy three times a day. Not only was Hector dead,  but his family \n",
      "couldn’t lay his soul to rest. At last  the king of  Troy, Hector’s father, could bear it \n",
      "no longer. He slipped out of  Troy ar night and crept up the hill to Achilles’s tent. \n",
      "He talked  about Achilles’s own father and how he would feel if Achilles  had been \n",
      "killed.  “I will ransom Hector’s body to you for its weight in gold,” said  Achilles.\n"
     ]
    }
   ],
   "source": [
    "query = \"\"\"At last Achilles slashed Hector across the\n",
    "throat. Hector fell to the ground dying\"\"\"\n",
    "retrieved_result= db.similarity_search(query)\n",
    "print(retrieved_result[0].page_content)"
   ]
  },
  {
   "cell_type": "code",
   "execution_count": 16,
   "metadata": {},
   "outputs": [],
   "source": [
    "#Design ChatPrompt Template\n",
    "from langchain_core.prompts import ChatPromptTemplate\n",
    "prompt=ChatPromptTemplate.from_template(\"\"\" \n",
    "Answer the following question based only on the provided context.\n",
    "Think step by step before providing a detailed answer.\n",
    "<context>\n",
    "{context}\n",
    "</context>\n",
    "Question:{input}\n",
    "\n",
    "\"\"\")"
   ]
  },
  {
   "cell_type": "code",
   "execution_count": 17,
   "metadata": {},
   "outputs": [
    {
     "data": {
      "text/plain": [
       "Ollama()"
      ]
     },
     "execution_count": 17,
     "metadata": {},
     "output_type": "execute_result"
    }
   ],
   "source": [
    "from langchain_community.llms import Ollama\n",
    "##Ollama llama2\n",
    "llm=Ollama(model=\"llama2\")\n",
    "llm"
   ]
  },
  {
   "cell_type": "code",
   "execution_count": 18,
   "metadata": {},
   "outputs": [
    {
     "data": {
      "text/plain": [
       "RunnableBinding(bound=RunnableBinding(bound=RunnableAssign(mapper={\n",
       "  context: RunnableLambda(format_docs)\n",
       "}), config={'run_name': 'format_inputs'})\n",
       "| ChatPromptTemplate(input_variables=['context', 'input'], messages=[HumanMessagePromptTemplate(prompt=PromptTemplate(input_variables=['context', 'input'], template=' \\nAnswer the following question based only on the provided context.\\nThink step by step before providing a detailed answer.\\n<context>\\n{context}\\n</context>\\nQuestion:{input}\\n\\n'))])\n",
       "| Ollama()\n",
       "| StrOutputParser(), config={'run_name': 'stuff_documents_chain'})"
      ]
     },
     "execution_count": 18,
     "metadata": {},
     "output_type": "execute_result"
    }
   ],
   "source": [
    "from langchain.chains.combine_documents import create_stuff_documents_chain\n",
    "document_chain=create_stuff_documents_chain(llm,prompt)\n",
    "document_chain"
   ]
  },
  {
   "cell_type": "code",
   "execution_count": 19,
   "metadata": {},
   "outputs": [
    {
     "data": {
      "text/plain": [
       "VectorStoreRetriever(tags=['FAISS', 'OllamaEmbeddings'], vectorstore=<langchain_community.vectorstores.faiss.FAISS object at 0x000002046D0FC070>)"
      ]
     },
     "execution_count": 19,
     "metadata": {},
     "output_type": "execute_result"
    }
   ],
   "source": [
    "retriever= db.as_retriever()\n",
    "retriever"
   ]
  },
  {
   "cell_type": "code",
   "execution_count": 20,
   "metadata": {},
   "outputs": [],
   "source": [
    "from langchain.chains import create_retrieval_chain\n",
    "retrieval_chain= create_retrieval_chain(retriever,document_chain)"
   ]
  },
  {
   "cell_type": "code",
   "execution_count": 21,
   "metadata": {},
   "outputs": [
    {
     "data": {
      "text/plain": [
       "\"Based on the provided context, Achilles asked for Hector's body to be ransomed for its weight in gold.\""
      ]
     },
     "execution_count": 21,
     "metadata": {},
     "output_type": "execute_result"
    }
   ],
   "source": [
    "response= retrieval_chain.invoke({\"input\":\"What did Achilles ask to give Hector's body?\"})\n",
    "response['answer']"
   ]
  },
  {
   "cell_type": "code",
   "execution_count": 23,
   "metadata": {},
   "outputs": [
    {
     "data": {
      "text/plain": [
       "'The answer to your question can be found in the context provided:\\n\\n\"The best fighter, Achilles, was the son of Thetis and Peleus.\"\\n\\nTherefore, the son of Thetis is Achilles.'"
      ]
     },
     "execution_count": 23,
     "metadata": {},
     "output_type": "execute_result"
    }
   ],
   "source": [
    "response= retrieval_chain.invoke({\"input\":\"Who is the son of thetis\"})\n",
    "response['answer']"
   ]
  },
  {
   "cell_type": "code",
   "execution_count": null,
   "metadata": {},
   "outputs": [],
   "source": []
  }
 ],
 "metadata": {
  "kernelspec": {
   "display_name": "venv",
   "language": "python",
   "name": "python3"
  },
  "language_info": {
   "codemirror_mode": {
    "name": "ipython",
    "version": 3
   },
   "file_extension": ".py",
   "mimetype": "text/x-python",
   "name": "python",
   "nbconvert_exporter": "python",
   "pygments_lexer": "ipython3",
   "version": "3.10.11"
  }
 },
 "nbformat": 4,
 "nbformat_minor": 2
}
